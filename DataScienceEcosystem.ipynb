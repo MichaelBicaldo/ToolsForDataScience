{
 "cells": [
  {
   "cell_type": "markdown",
   "id": "82deccf2",
   "metadata": {},
   "source": [
    "# Data Science Tools and Ecosystem\n",
    "\n",
    "\n"
   ]
  },
  {
   "cell_type": "markdown",
   "id": "86998f5b",
   "metadata": {},
   "source": [
    "In this notebook, Data Science Tools and Ecosystem are summarized.\n",
    "\n"
   ]
  },
  {
   "cell_type": "markdown",
   "id": "ebd96357",
   "metadata": {},
   "source": [
    "# Takeaways of this course\n",
    "\n",
    " 1. How to Describe the components of a Data Scientist's toolkit and list various tool categories.\n",
    " 2. What are the relevant features if Open Source Tools\n",
    " 3. examples of commercial and cloud-based data science tools.\n",
    " \n",
    " \n",
    " # Objectives\n",
    " \n",
    " unordered list:\n",
    " \n",
    " - commonly used libraries used by Data Scientists\n",
    " - Popular languages that Data Scientists\n",
    " - Arithmetic expression examples\n",
    " \n",
    " "
   ]
  },
  {
   "cell_type": "markdown",
   "id": "307d8ef5",
   "metadata": {},
   "source": [
    "# Some of the Popular languages that Data Scientists use are:\n",
    "\n",
    "ordered list\n",
    "\n",
    "1. Python\n",
    "2. R\n",
    "3. SQL\n",
    "4. Java\n",
    "5. Julia\n",
    "6. Scala\n",
    "7. MATLAB\n",
    "8. Javascript\n",
    "9. C++\n",
    "10. Ruby"
   ]
  },
  {
   "cell_type": "markdown",
   "id": "0d87aa4f",
   "metadata": {},
   "source": [
    "\n",
    "# Some of the commonly used libraries used by Data Scientists include:\n",
    "\n",
    "ordered list:\n",
    "\n",
    "1. Pandas\n",
    "2. Matplotlib\n",
    "3. TensorFlow\n",
    "4. Numply\n",
    "5. Scikit-learn\n",
    "6. SciPy\n",
    "7. PyTorch\n",
    "8. Keras\n",
    "9. Theano\n",
    "10. Plotly\n"
   ]
  },
  {
   "cell_type": "markdown",
   "id": "06f31157",
   "metadata": {},
   "source": [
    "\n",
    "\n",
    "| Data Science Tools |\n",
    "|--------------------|\n",
    "|Pandas              |\n",
    "|Weka                |\n",
    "|Scrapy              |\n"
   ]
  },
  {
   "cell_type": "markdown",
   "id": "e0964017",
   "metadata": {},
   "source": [
    "# Arithmetic expression examples\n",
    "\n",
    "   Below are a few examples of evaluating arithmetic expressions in Python\n",
    "   \n",
    " This a simple arithmetic expression to mutiply then add integers"
   ]
  },
  {
   "cell_type": "code",
   "execution_count": 8,
   "id": "b7db0613",
   "metadata": {},
   "outputs": [
    {
     "data": {
      "text/plain": [
       "17"
      ]
     },
     "execution_count": 8,
     "metadata": {},
     "output_type": "execute_result"
    }
   ],
   "source": [
    "(3*4)+5\n"
   ]
  },
  {
   "attachments": {},
   "cell_type": "markdown",
   "id": "fce1764c",
   "metadata": {},
   "source": [
    "# Convert Minutes to Hour\n",
    "This will convert 200 minutes to hours by diving by 60"
   ]
  },
  {
   "cell_type": "code",
   "execution_count": 14,
   "id": "9ef7ab60",
   "metadata": {},
   "outputs": [
    {
     "data": {
      "text/plain": [
       "3.3333333333333335"
      ]
     },
     "execution_count": 14,
     "metadata": {},
     "output_type": "execute_result"
    }
   ],
   "source": [
    "200/60"
   ]
  },
  {
   "cell_type": "markdown",
   "id": "4e607054",
   "metadata": {},
   "source": [
    "# Author\n",
    "\n",
    "Michael N. Bicaldo\n",
    "\n"
   ]
  },
  {
   "cell_type": "code",
   "execution_count": null,
   "id": "43333c26",
   "metadata": {},
   "outputs": [],
   "source": []
  }
 ],
 "metadata": {
  "kernelspec": {
   "display_name": "Python 3 (ipykernel)",
   "language": "python",
   "name": "python3"
  },
  "language_info": {
   "codemirror_mode": {
    "name": "ipython",
    "version": 3
   },
   "file_extension": ".py",
   "mimetype": "text/x-python",
   "name": "python",
   "nbconvert_exporter": "python",
   "pygments_lexer": "ipython3",
   "version": "3.11.4"
  }
 },
 "nbformat": 4,
 "nbformat_minor": 5
}
